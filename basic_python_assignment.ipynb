{
  "nbformat": 4,
  "nbformat_minor": 0,
  "metadata": {
    "colab": {
      "provenance": []
    },
    "kernelspec": {
      "name": "python3",
      "display_name": "Python 3"
    },
    "language_info": {
      "name": "python"
    }
  },
  "cells": [
    {
      "cell_type": "markdown",
      "source": [
        "# Basic python assignment\n",
        "###1.what is python,and why is it important?\n",
        "  ans. Python is high level,interpreted and generalpurpose programming language known for simple syntax and readability.\n",
        "\n",
        "  python's popularity comes from it's simplecity and flexibility and wide range of applicaions\n",
        "\n",
        "\n",
        "*   easy to learn\n",
        "*   versatile\n",
        "\n",
        "*   strong comunity support\n",
        "*  large standard libary\n",
        "\n",
        "###2.what is interpreter in python?\n",
        "  ans.An interpreter in python is a program that directly executes python code line by line rather than compiling the entire code once.\n",
        "\n",
        "###3.what are predefined keywords in python?\n",
        "  ans.predefined keywords in python are reserved words that have specific meanings and purpose within the language.\n",
        "\n",
        "  example-\n",
        "\n",
        "*   none\n",
        "*   break\n",
        "\n",
        "*   true\n",
        "*   false\n",
        "\n",
        "###4.can keywords be used as variable names?\n",
        "   ans.no,keywords cannot be used as variable names in python because keywords are reserved words that have speial meaning and purpose in the language.\n",
        "\n",
        "###5.what is mutability in python?\n",
        "\n",
        "   ans. mutability in python efers to wheather an object value can be changed after it is created.\n",
        "   mutability examples-\n",
        "\n",
        "*   lists\n",
        "*   dictionaries\n",
        "\n",
        "\n",
        "\n",
        "###6.why are lists mutable but tuple are immutable?\n",
        "   ans.lists mutable but tuple immutable because of the following resons-\n",
        "       \n",
        "       -list are meant to be store dynamic collections of data where items may be needed to added ,removed or changed frequently.\n",
        "        hence they are designed tobe mutable for flexibility.\n",
        "\n",
        "       -tuple are meant to store fixed collection of datawhere stucture should remain constant.\n",
        "\n",
        "###7. what is the difference between \"==\" and \"is\" operator in python?\n",
        "   ans.in python\"==\"and \"is\" operator are both used for comparison butthey have different purposes\n",
        "   \"==\" equality operator.\n",
        "   - it checks if the value of two objects are equal.\n",
        "   - it compares the content of the objects not their memory locations.\n",
        "\n",
        "   on other hand, \"is\" operator in python is used to check that is both objects\n",
        "   pointing towards same memory location or not.\n",
        "\n",
        "\n",
        "\n",
        "\n",
        "\n"
      ],
      "metadata": {
        "id": "WI7ZLZiqxkEr"
      }
    },
    {
      "cell_type": "markdown",
      "source": [
        "###8.what are logical operators in python?\n",
        "  ans. Logical opertors in python are used to perfom logical operations on boolean values(true, false) python has three logical operators-\n",
        "   \n",
        "\n",
        "\n",
        "* and -  Returns true if both conditionas are true.  \n",
        "* or-    returns true if at least one condition is true.\n",
        "* not-   returns true if the condition is false.  \n",
        "\n",
        "\n",
        "\n",
        "\n"
      ],
      "metadata": {
        "id": "kqCQ0y-lfAwS"
      }
    },
    {
      "cell_type": "markdown",
      "source": [
        "###9.what is type casting in python?\n",
        "  ans. Type casting in python is the process of converting one data type to another data type .\n",
        "  python provide in built functions for type casting which can be categorized into two types-\n",
        "   \n",
        "   1.implicit type castng\n",
        "   \n",
        "   2.explicite type casting\n",
        "\n",
        "###10.what is the difference between implicite and explicite type casting?\n",
        "   ans. IMPLICITE TYPE CASTING-\n",
        "                               1.python automatically converts small data type\n",
        "                                 to larger data type to avoid data loss.\n",
        "                               \n",
        "        EXPLICITE TYPE CASTING- 1.programmer manually converts one data type to another data type example int(),float(),str().\n",
        "\n",
        "###11. what is the purpose of conditional statements in python?\n",
        "  ans. A condiional statement in python is used to make decisions in a program\n",
        "       be executing different blocks of code based on certain conditions\n",
        "       these statements use if ,elifeand else keywords.\n",
        "\n",
        "###12. How does a elif statement works?\n",
        "   ans. the elif (short else if) statement in python is ued when you need to check multiple conditions sequentially .\n",
        "        it allows you to depending on which condition is true.\n",
        "\n",
        "###13. what is the difference between for and while loops?\n",
        "   ans. FOR LOOP-                                    WHILE LOOP-\n",
        "        1.used when the number of iterations         1.used when the no.iteratio\n",
        "        are known.                                    -n is unknown and depends\n",
        "        2.uses an iterator(like list,rangeor string)   on a condition.\n",
        "        3.automatic control of variable.             2.uses a condiion which\n",
        "                                                       checked before each\n",
        "                                                       iteration.\n",
        "\n",
        "###14. Describe a scenario where a while  loop is more suitable than a for loop?\n",
        "  ans. while loop is better tha afor loop when a no of iterations are not known\n",
        "        \n"
      ],
      "metadata": {
        "id": "g3sEFZ0uhGWw"
      }
    },
    {
      "cell_type": "code",
      "source": [
        "#EXAMPLE -\n",
        "X=int(input(\"enter any number \"))\n",
        "while X%2==0:\n",
        "     print(\"you entered a even number\")\n",
        "     break"
      ],
      "metadata": {
        "colab": {
          "base_uri": "https://localhost:8080/"
        },
        "id": "6KHuCctu3mqs",
        "outputId": "e8dd2820-1759-4fa1-f124-cd70979a90b4"
      },
      "execution_count": 4,
      "outputs": [
        {
          "name": "stdout",
          "output_type": "stream",
          "text": [
            "enter any number 13\n"
          ]
        }
      ]
    },
    {
      "cell_type": "markdown",
      "source": [
        "# practical questions."
      ],
      "metadata": {
        "id": "6O9x_6vFgtaB"
      }
    },
    {
      "cell_type": "code",
      "source": [
        "#Q1.write a python programme to print \"Hello World!\"\n",
        "\n",
        "print(\"Hello World\")\n",
        "\n"
      ],
      "metadata": {
        "colab": {
          "base_uri": "https://localhost:8080/"
        },
        "id": "ZZ4oY0dI3KUG",
        "outputId": "520a2052-5827-46fd-e6d1-b7aa7516a963"
      },
      "execution_count": null,
      "outputs": [
        {
          "output_type": "stream",
          "name": "stdout",
          "text": [
            "Hello World\n"
          ]
        }
      ]
    },
    {
      "cell_type": "code",
      "source": [
        "#Q2. write a python programme t to print your name and age\n",
        "\n",
        "x=input(\"enter your name :\")\n",
        "y=int(input(\"enter your age:\"))\n",
        "print(\"your name is :\",x,\" and your age is :\",y)\n"
      ],
      "metadata": {
        "colab": {
          "base_uri": "https://localhost:8080/"
        },
        "id": "FmyR2fma2L1H",
        "outputId": "b6ef49cb-2fdb-4615-c155-cb0d68f7391b"
      },
      "execution_count": null,
      "outputs": [
        {
          "output_type": "stream",
          "name": "stdout",
          "text": [
            "enter your name :Ashutosh singh\n",
            "enter your age:29\n",
            "your name is : Ashutosh singh  and your age is : 29\n"
          ]
        }
      ]
    },
    {
      "cell_type": "code",
      "source": [
        "#Q3. write a code to print all the pre defined keywords in python usng the keyword library?\n",
        "import keyword\n",
        "keywords= keyword.kwlist\n",
        "for kw in keywords:\n",
        "       print(\"python keywords:\")\n",
        "       print(kw)"
      ],
      "metadata": {
        "id": "6ntlV2-G3FPG",
        "colab": {
          "base_uri": "https://localhost:8080/"
        },
        "collapsed": true,
        "outputId": "56bbe6b3-842d-4f85-ec84-d6767c530e1a"
      },
      "execution_count": null,
      "outputs": [
        {
          "output_type": "stream",
          "name": "stdout",
          "text": [
            "python keywords:\n",
            "False\n",
            "python keywords:\n",
            "None\n",
            "python keywords:\n",
            "True\n",
            "python keywords:\n",
            "and\n",
            "python keywords:\n",
            "as\n",
            "python keywords:\n",
            "assert\n",
            "python keywords:\n",
            "async\n",
            "python keywords:\n",
            "await\n",
            "python keywords:\n",
            "break\n",
            "python keywords:\n",
            "class\n",
            "python keywords:\n",
            "continue\n",
            "python keywords:\n",
            "def\n",
            "python keywords:\n",
            "del\n",
            "python keywords:\n",
            "elif\n",
            "python keywords:\n",
            "else\n",
            "python keywords:\n",
            "except\n",
            "python keywords:\n",
            "finally\n",
            "python keywords:\n",
            "for\n",
            "python keywords:\n",
            "from\n",
            "python keywords:\n",
            "global\n",
            "python keywords:\n",
            "if\n",
            "python keywords:\n",
            "import\n",
            "python keywords:\n",
            "in\n",
            "python keywords:\n",
            "is\n",
            "python keywords:\n",
            "lambda\n",
            "python keywords:\n",
            "nonlocal\n",
            "python keywords:\n",
            "not\n",
            "python keywords:\n",
            "or\n",
            "python keywords:\n",
            "pass\n",
            "python keywords:\n",
            "raise\n",
            "python keywords:\n",
            "return\n",
            "python keywords:\n",
            "try\n",
            "python keywords:\n",
            "while\n",
            "python keywords:\n",
            "with\n",
            "python keywords:\n",
            "yield\n"
          ]
        }
      ]
    },
    {
      "cell_type": "code",
      "source": [
        "#Q4.write a program that checks if a given word is a python keyword?\n",
        "import keyword\n",
        "keywords=keyword.kwlist\n",
        "a=input(\"enter keyword you want to check:\")\n",
        "for kw in keywords:\n",
        "     if(a==kw):\n",
        "         print(\"yes it is a python keyword\")\n",
        "         break\n",
        "if(a!=kw):\n",
        "    print(\"not a python keyword\")\n",
        "\n",
        "\n",
        "\n",
        "\n",
        "\n",
        "\n"
      ],
      "metadata": {
        "colab": {
          "base_uri": "https://localhost:8080/"
        },
        "id": "S5AjOvJD8ape",
        "outputId": "e52efefd-78ad-4d20-d868-71fac68c7a4a",
        "collapsed": true
      },
      "execution_count": null,
      "outputs": [
        {
          "output_type": "stream",
          "name": "stdout",
          "text": [
            "enter keyword you want to check:a\n",
            "not a python keyword\n"
          ]
        }
      ]
    },
    {
      "cell_type": "code",
      "source": [
        "#Q5. create a list and tuple in python and change an element works differently for each?\n",
        "list=[1,2,3,4,5,6,7,8,9,10]   #creating a list\n",
        "tu=(1,2,3,4,5,6,7,8,9,10)     #creating a tuple\n",
        "list[4]=40                    #changing element at position 4 in list\n",
        "print(\"modified element of list:\",list[4])# successfully changed.\n",
        "tu[4]=90                      # since tuple is immutable hence can not change and throws an error.\n"
      ],
      "metadata": {
        "colab": {
          "base_uri": "https://localhost:8080/",
          "height": 211
        },
        "collapsed": true,
        "id": "VL5P2z6URCJS",
        "outputId": "1bcc6538-3374-489e-cf95-817a3e448197"
      },
      "execution_count": null,
      "outputs": [
        {
          "output_type": "stream",
          "name": "stdout",
          "text": [
            "modified element of list: 40\n"
          ]
        },
        {
          "output_type": "error",
          "ename": "TypeError",
          "evalue": "'tuple' object does not support item assignment",
          "traceback": [
            "\u001b[0;31m---------------------------------------------------------------------------\u001b[0m",
            "\u001b[0;31mTypeError\u001b[0m                                 Traceback (most recent call last)",
            "\u001b[0;32m<ipython-input-9-e4048bce6e50>\u001b[0m in \u001b[0;36m<cell line: 0>\u001b[0;34m()\u001b[0m\n\u001b[1;32m      4\u001b[0m \u001b[0mlist\u001b[0m\u001b[0;34m[\u001b[0m\u001b[0;36m4\u001b[0m\u001b[0;34m]\u001b[0m\u001b[0;34m=\u001b[0m\u001b[0;36m40\u001b[0m                    \u001b[0;31m#changing element at position 4 in list\u001b[0m\u001b[0;34m\u001b[0m\u001b[0;34m\u001b[0m\u001b[0m\n\u001b[1;32m      5\u001b[0m \u001b[0mprint\u001b[0m\u001b[0;34m(\u001b[0m\u001b[0;34m\"modified element of list:\"\u001b[0m\u001b[0;34m,\u001b[0m\u001b[0mlist\u001b[0m\u001b[0;34m[\u001b[0m\u001b[0;36m4\u001b[0m\u001b[0;34m]\u001b[0m\u001b[0;34m)\u001b[0m\u001b[0;34m\u001b[0m\u001b[0;34m\u001b[0m\u001b[0m\n\u001b[0;32m----> 6\u001b[0;31m \u001b[0mtu\u001b[0m\u001b[0;34m[\u001b[0m\u001b[0;36m4\u001b[0m\u001b[0;34m]\u001b[0m\u001b[0;34m=\u001b[0m\u001b[0;36m90\u001b[0m                      \u001b[0;31m# since tuple is immutable hence can not change and throws an error.\u001b[0m\u001b[0;34m\u001b[0m\u001b[0;34m\u001b[0m\u001b[0m\n\u001b[0m\u001b[1;32m      7\u001b[0m \u001b[0;34m\u001b[0m\u001b[0m\n",
            "\u001b[0;31mTypeError\u001b[0m: 'tuple' object does not support item assignment"
          ]
        }
      ]
    },
    {
      "cell_type": "code",
      "source": [
        "#Q6.write a function to demonstrate the behaviour of mutable and immutable arguments?\n",
        "def behaviour_arguments(a,b):# defining afunction to illustrate a situation\n",
        "    a.append(1000)\n",
        "    b+=1000\n",
        "    print(\"inside function after modification:\")\n",
        "    print(\"updated value of mutable objects\",a)\n",
        "    print(\"changed value of immutable objects:\",b)#immutable argument can not be replaced only changed\n",
        "a=[1,7,9,\"ashutosh\",\"vijay\"]\n",
        "b=3\n",
        "behaviour_arguments(a,b)#calling function to execute behaviour of mutable and immutable"
      ],
      "metadata": {
        "colab": {
          "base_uri": "https://localhost:8080/"
        },
        "id": "5s6YgQjbTj_6",
        "outputId": "df2808b2-d0d8-432c-87ad-6a3c54b2a088"
      },
      "execution_count": null,
      "outputs": [
        {
          "output_type": "stream",
          "name": "stdout",
          "text": [
            "inside function after modification:\n",
            "updated value of mutable objects [1, 7, 9, 'ashutosh', 'vijay', 1000]\n",
            "changed value of immutable objects: 1003\n"
          ]
        }
      ]
    },
    {
      "cell_type": "code",
      "source": [
        "#Q7.write a function to demonstrate the behaviour of mutable and immutable arguments?\n",
        "def behaviour_arguments(a,b):# defining function to illustrate the situation\n",
        "    a.append(90)\n",
        "    b+=9\n",
        "    print(\"inside function after modification:\")\n",
        "    print(\"updated value of mutable objects\",a)\n",
        "    print(\"changed value of immutable objects:\",b)#immutable argument can not be replaced only changed\n",
        "a=[1,6,9,\"ashutosh\",\"vijay\"]\n",
        "b=9\n",
        "behaviour_arguments(a,b)#calling function to execute behaviour of mutable and immutable"
      ],
      "metadata": {
        "colab": {
          "base_uri": "https://localhost:8080/"
        },
        "outputId": "448cdfe3-c367-4a36-a86d-3f1fb01ed2a1",
        "collapsed": true,
        "id": "U-7s0-weX374"
      },
      "execution_count": null,
      "outputs": [
        {
          "output_type": "stream",
          "name": "stdout",
          "text": [
            "inside function after modification:\n",
            "updated value of mutable objects [1, 6, 9, 'ashutosh', 'vijay', 90]\n",
            "changed value of immutable objects: 18\n"
          ]
        }
      ]
    },
    {
      "cell_type": "code",
      "source": [
        "#Q8. write a program to demonstrate the use of logical operators?\n",
        "\n",
        "a=int(input(\"enter a number you want check:\"))\n",
        "if (a>0 or a==0):                               # grater than and or opertor \"==\" operator use shown\n",
        "    print(\"entered number is non negative number:\",a)\n",
        "else:\n",
        "    print(\"number is negative\")"
      ],
      "metadata": {
        "colab": {
          "base_uri": "https://localhost:8080/"
        },
        "id": "CbTX3vSCwi8A",
        "outputId": "cda7500c-9d10-447b-d79b-af88eec1e585"
      },
      "execution_count": null,
      "outputs": [
        {
          "output_type": "stream",
          "name": "stdout",
          "text": [
            "enter a number you want check:56\n",
            "entered number is non negative number: 56\n"
          ]
        }
      ]
    },
    {
      "cell_type": "code",
      "source": [
        "#Q9.write a program to convert user input from string to integer,floatand boolean types?\n",
        "\n",
        "a=input(\"enter a string of your choice-\")\n",
        "b=int(a)#converting to int type\n",
        "type(b)"
      ],
      "metadata": {
        "colab": {
          "base_uri": "https://localhost:8080/"
        },
        "id": "GpyHbD-0yB93",
        "outputId": "70b1aaf2-9969-4fc1-bcff-57fdb56e6ac8"
      },
      "execution_count": null,
      "outputs": [
        {
          "name": "stdout",
          "output_type": "stream",
          "text": [
            "enter a string of your choice-123\n"
          ]
        },
        {
          "output_type": "execute_result",
          "data": {
            "text/plain": [
              "int"
            ]
          },
          "metadata": {},
          "execution_count": 14
        }
      ]
    },
    {
      "cell_type": "code",
      "source": [
        "#converting to boolean type\n",
        "a=input(\"enter string-\")\n",
        "b=bool(a)\n",
        "type(b)"
      ],
      "metadata": {
        "colab": {
          "base_uri": "https://localhost:8080/"
        },
        "id": "gIj6RR4BzjEG",
        "outputId": "7bf07f84-2629-49bd-e8ea-dac9f5b6231c"
      },
      "execution_count": null,
      "outputs": [
        {
          "name": "stdout",
          "output_type": "stream",
          "text": [
            "enter string-123\n"
          ]
        },
        {
          "output_type": "execute_result",
          "data": {
            "text/plain": [
              "bool"
            ]
          },
          "metadata": {},
          "execution_count": 13
        }
      ]
    },
    {
      "cell_type": "code",
      "source": [
        "#converting to float type\n",
        "\n",
        "a=input(\"enter string-\")\n",
        "b=float(a)\n",
        "type(b)"
      ],
      "metadata": {
        "colab": {
          "base_uri": "https://localhost:8080/"
        },
        "id": "I5ZWOn3vzwxe",
        "outputId": "e8d81b83-850e-41b3-fb64-6ce900178b13"
      },
      "execution_count": null,
      "outputs": [
        {
          "name": "stdout",
          "output_type": "stream",
          "text": [
            "enter string-123\n"
          ]
        },
        {
          "output_type": "execute_result",
          "data": {
            "text/plain": [
              "float"
            ]
          },
          "metadata": {},
          "execution_count": 12
        }
      ]
    },
    {
      "cell_type": "code",
      "source": [
        "#Q10. write program to demonstrate type casting with list elements?\n",
        "listA=[\"1\",\"20\",\"67\",\"56\",'9']# creating a list on which type casting performed\n",
        "listB=[int(i) for i in listA]#   new list with integer values as elements\n",
        "listC=[float(i) for i in listA]# new list with float values as objects\n",
        "print(\"converted list from strings to integers: \",listB)\n",
        "print(\"converted list from string to float\",listC)"
      ],
      "metadata": {
        "colab": {
          "base_uri": "https://localhost:8080/"
        },
        "id": "tWkZDLPN0QEf",
        "outputId": "6496bf40-1821-4fc2-d84a-41f7873d97c6"
      },
      "execution_count": null,
      "outputs": [
        {
          "output_type": "stream",
          "name": "stdout",
          "text": [
            "converted list from strings to integers:  [1, 20, 67, 56, 9]\n",
            "converted list from string to float [1.0, 20.0, 67.0, 56.0, 9.0]\n"
          ]
        }
      ]
    },
    {
      "cell_type": "code",
      "source": [
        "#Q11.write a program that checks if a number is positive ,negative or zero?\n",
        "\n",
        "x=int(input(\"enter a number:\"))\n",
        "if(x<0):\n",
        "    print(\"number is negative:\",x)\n",
        "elif(x==0):\n",
        "    print(\"number is zero\",x)\n",
        "elif(x>0):\n",
        "    print(\"number is positive\",x)\n",
        "\n"
      ],
      "metadata": {
        "colab": {
          "base_uri": "https://localhost:8080/"
        },
        "id": "_wDfI5Tt3BjO",
        "outputId": "a79ed54f-85b3-40d6-bf0c-0cf33f79527e"
      },
      "execution_count": null,
      "outputs": [
        {
          "output_type": "stream",
          "name": "stdout",
          "text": [
            "enter a number:9\n",
            "number is positive 9\n"
          ]
        }
      ]
    },
    {
      "cell_type": "code",
      "source": [
        "#Q12. write a for loop to print numbers from 1 to 10?\n",
        "\n",
        "list=[1,2,3,4,5,6,7,8,9,10]\n",
        "for i in list:#for loop\n",
        "    print(i)\n"
      ],
      "metadata": {
        "colab": {
          "base_uri": "https://localhost:8080/"
        },
        "id": "GMWu9nGt4KW-",
        "outputId": "8f66b9fd-3f80-4a19-e161-458ed4a3d16f"
      },
      "execution_count": null,
      "outputs": [
        {
          "output_type": "stream",
          "name": "stdout",
          "text": [
            "1\n",
            "2\n",
            "3\n",
            "4\n",
            "5\n",
            "6\n",
            "7\n",
            "8\n",
            "9\n",
            "10\n"
          ]
        }
      ]
    },
    {
      "cell_type": "code",
      "source": [
        "#Q13.write a python programme to find the sum of all even numbers between 1 and 50?\n",
        "sum=0\n",
        "for num in range(1,51):\n",
        "    if(num%2==0):\n",
        "        sum+=num\n",
        "print(\"sum of even numbers from 1to 50 is:\",sum)\n"
      ],
      "metadata": {
        "colab": {
          "base_uri": "https://localhost:8080/"
        },
        "id": "r6-kn_7t5UDV",
        "outputId": "93c2f9bc-098a-486f-f6a4-4045ca197350"
      },
      "execution_count": null,
      "outputs": [
        {
          "output_type": "stream",
          "name": "stdout",
          "text": [
            "sum of even numbers from 1to 50 is: 650\n"
          ]
        }
      ]
    },
    {
      "cell_type": "code",
      "source": [
        "#Q14.write a programme to reverse a string using a while loop?\n",
        "\n",
        "x=input(\"enter a string you want to reverse:\")#original string taken from user\n",
        "reverse_y=\"\" #decalaration of reverse string variable\n",
        "index=len(x)-1\n",
        "while index>=0:\n",
        "    reverse_y+=x[index]\n",
        "    index-=1\n",
        "print(\"reverse string is:\",reverse_y)\n"
      ],
      "metadata": {
        "id": "3OYQqx2G66sM",
        "colab": {
          "base_uri": "https://localhost:8080/"
        },
        "outputId": "b24db37d-8c55-472e-c666-f0bdec706c1e"
      },
      "execution_count": 5,
      "outputs": [
        {
          "output_type": "stream",
          "name": "stdout",
          "text": [
            "enter a string you want to reverse:ashutosh\n",
            "reverse string is: hsotuhsa\n"
          ]
        }
      ]
    },
    {
      "cell_type": "code",
      "source": [
        "#Q15.write a programme to find factorial of a number givn by user?\n",
        "\n",
        "num=int(input(\"enter a number you want to calculate factorial of\"))\n",
        "i=num\n",
        "factorial=1\n",
        "while i>=1:\n",
        "   factorial*=i\n",
        "   i-=1\n",
        "print(\"factorial oa given number \",num,\"is\",factorial)\n",
        "\n"
      ],
      "metadata": {
        "colab": {
          "base_uri": "https://localhost:8080/"
        },
        "id": "qagxVLsLNeYw",
        "outputId": "736cfc78-f1d0-4262-d314-787c7462030f"
      },
      "execution_count": 7,
      "outputs": [
        {
          "output_type": "stream",
          "name": "stdout",
          "text": [
            "enter a number you want to calculate factorial of4\n",
            "factorial oa given number  4 is 24\n"
          ]
        }
      ]
    }
  ]
}